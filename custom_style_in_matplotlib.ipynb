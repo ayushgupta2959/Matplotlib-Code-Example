{
 "cells": [
  {
   "cell_type": "code",
   "execution_count": 7,
   "metadata": {},
   "outputs": [
    {
     "data": {
      "text/plain": [
       "'/home/home/.config/matplotlib'"
      ]
     },
     "execution_count": 7,
     "metadata": {},
     "output_type": "execute_result"
    }
   ],
   "source": [
    "import matplotlib as mpl\n",
    "import matplotlib.pyplot as plt\n",
    "mpl.get_configdir()"
   ]
  },
  {
   "cell_type": "code",
   "execution_count": 8,
   "metadata": {},
   "outputs": [],
   "source": [
    "ls /home/home/.config/matplotlib/"
   ]
  },
  {
   "cell_type": "code",
   "execution_count": 9,
   "metadata": {},
   "outputs": [
    {
     "data": {
      "text/plain": [
       "['classic',\n",
       " 'seaborn-white',\n",
       " 'seaborn-notebook',\n",
       " 'seaborn-darkgrid',\n",
       " 'seaborn-poster',\n",
       " 'seaborn-muted',\n",
       " 'seaborn-whitegrid',\n",
       " 'bmh',\n",
       " 'seaborn-colorblind',\n",
       " 'seaborn-dark',\n",
       " 'tableau-colorblind10',\n",
       " 'fivethirtyeight',\n",
       " 'seaborn-talk',\n",
       " '_classic_test',\n",
       " 'dark_background',\n",
       " 'seaborn-deep',\n",
       " 'grayscale',\n",
       " 'fast',\n",
       " 'Solarize_Light2',\n",
       " 'seaborn-dark-palette',\n",
       " 'seaborn-bright',\n",
       " 'seaborn-ticks',\n",
       " 'seaborn-pastel',\n",
       " 'seaborn',\n",
       " 'ggplot',\n",
       " 'seaborn-paper']"
      ]
     },
     "execution_count": 9,
     "metadata": {},
     "output_type": "execute_result"
    }
   ],
   "source": [
    "plt.style.available"
   ]
  },
  {
   "cell_type": "code",
   "execution_count": 14,
   "metadata": {},
   "outputs": [],
   "source": [
    "custom_style = '''\n",
    "figure.figsize: 12, 7\n",
    "figure.edgecolor: white\n",
    "figure.facecolor: white\n",
    "\n",
    "lines.linewidth: 2.5\n",
    "lines.markeredgewidth: 0\n",
    "lines.markersize: 10\n",
    "lines.dash_capstyle: butt\n",
    "\n",
    "legend.fancybox: True\n",
    "\n",
    "font.size: 14\n",
    "\n",
    "axes.linewidth: 0\n",
    "axes.titlesize: 22\n",
    "axes.labelsize: 16\n",
    "\n",
    "xtick.labelsize: 14\n",
    "ytick.labelsize: 14\n",
    "xtick.major.size: 0\n",
    "xtick.minor.size: 0\n",
    "ytick.major.size: 0\n",
    "ytick.minor.size: 0\n",
    "\n",
    "axes.grid: True\n",
    "grid.alpha: 0.3\n",
    "grid.linewidth: 0.5\n",
    "grid.linestyle: --\n",
    "grid.color: black\n",
    "\n",
    "savefig.transparent: False\n",
    "savefig.bbox: tight\n",
    "savefig.format: png\n",
    "'''\n",
    "\n",
    "mpl_style_location = ('{}/stylelib/my_custom_style.mplstyle'.format(mpl.get_configdir()))\n",
    "\n",
    "with open(mpl_style_location, 'w') as out_file:\n",
    "    out_file.write(custom_style)"
   ]
  },
  {
   "cell_type": "code",
   "execution_count": 15,
   "metadata": {},
   "outputs": [],
   "source": [
    "plt.style.reload_library()"
   ]
  },
  {
   "cell_type": "code",
   "execution_count": 16,
   "metadata": {},
   "outputs": [
    {
     "data": {
      "text/plain": [
       "['classic',\n",
       " 'seaborn-white',\n",
       " 'seaborn-notebook',\n",
       " 'seaborn-darkgrid',\n",
       " 'seaborn-poster',\n",
       " 'seaborn-muted',\n",
       " 'seaborn-whitegrid',\n",
       " 'bmh',\n",
       " 'seaborn-colorblind',\n",
       " 'seaborn-dark',\n",
       " 'tableau-colorblind10',\n",
       " 'fivethirtyeight',\n",
       " 'seaborn-talk',\n",
       " '_classic_test',\n",
       " 'dark_background',\n",
       " 'seaborn-deep',\n",
       " 'grayscale',\n",
       " 'fast',\n",
       " 'Solarize_Light2',\n",
       " 'seaborn-dark-palette',\n",
       " 'seaborn-bright',\n",
       " 'seaborn-ticks',\n",
       " 'seaborn-pastel',\n",
       " 'seaborn',\n",
       " 'ggplot',\n",
       " 'seaborn-paper',\n",
       " 'my_custom_style']"
      ]
     },
     "execution_count": 16,
     "metadata": {},
     "output_type": "execute_result"
    }
   ],
   "source": [
    "plt.style.available"
   ]
  },
  {
   "cell_type": "code",
   "execution_count": null,
   "metadata": {},
   "outputs": [],
   "source": []
  }
 ],
 "metadata": {
  "kernelspec": {
   "display_name": "Python 3",
   "language": "python",
   "name": "python3"
  },
  "language_info": {
   "codemirror_mode": {
    "name": "ipython",
    "version": 3
   },
   "file_extension": ".py",
   "mimetype": "text/x-python",
   "name": "python",
   "nbconvert_exporter": "python",
   "pygments_lexer": "ipython3",
   "version": "3.6.6"
  }
 },
 "nbformat": 4,
 "nbformat_minor": 2
}
